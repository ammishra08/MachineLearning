{
  "cells": [
    {
      "cell_type": "markdown",
      "id": "143ec49c-e48d-4fd5-a2ee-f3f3bebe37b4",
      "metadata": {
        "id": "143ec49c-e48d-4fd5-a2ee-f3f3bebe37b4"
      },
      "source": [
        "##### Linear Regression\n",
        "##### Building a Linear Regression Model\n",
        "\n",
        "##### Lab Objective :\n",
        "Develop a Linear Regression model to predict 5G network bandwidth allocation using Quality of Service data. Evaluate model performance and identify key factors influencing bandwidth distribution."
      ]
    },
    {
      "cell_type": "markdown",
      "id": "e047ebb2-5e9e-44c3-b75d-d13c4c16e725",
      "metadata": {
        "id": "e047ebb2-5e9e-44c3-b75d-d13c4c16e725"
      },
      "source": [
        "### Background :\n",
        "5G networks require efficient resource management to deliver high performance. This lab uses machine learning to analyze Quality of Service data, predicting bandwidth allocation needs. By understanding key factors affecting bandwidth requirements, we aim to improve network efficiency and user experience in next-generation mobile networks."
      ]
    },
    {
      "cell_type": "markdown",
      "id": "32af81e4-7915-4464-90d1-c3fa7c0fd94c",
      "metadata": {
        "id": "32af81e4-7915-4464-90d1-c3fa7c0fd94c"
      },
      "source": [
        "### 1. Import Libraries"
      ]
    },
    {
      "cell_type": "code",
      "execution_count": null,
      "id": "e989c1b9-e1a5-4b10-84b3-b78aa5d9849b",
      "metadata": {
        "id": "e989c1b9-e1a5-4b10-84b3-b78aa5d9849b"
      },
      "outputs": [],
      "source": [
        "import pandas as pd\n",
        "import numpy as np\n",
        "import matplotlib.pyplot as plt\n",
        "from sklearn.model_selection import train_test_split\n",
        "from sklearn.linear_model import LinearRegression\n",
        "from sklearn.preprocessing import LabelEncoder, StandardScaler\n",
        "from sklearn.metrics import mean_squared_error, r2_score"
      ]
    },
    {
      "cell_type": "markdown",
      "id": "71e0ce45-3d18-4b32-b7c7-c8df9b0e0830",
      "metadata": {
        "id": "71e0ce45-3d18-4b32-b7c7-c8df9b0e0830"
      },
      "source": [
        "### 2. Load and Explore Dataset\n",
        "#### 2.1 Load the dataset"
      ]
    },
    {
      "cell_type": "code",
      "execution_count": null,
      "id": "32b7372e-d491-4610-892b-7917bd5a486d",
      "metadata": {
        "id": "32b7372e-d491-4610-892b-7917bd5a486d",
        "outputId": "d8777ffe-86de-476c-b1e1-bb824b62cc7a"
      },
      "outputs": [
        {
          "name": "stdout",
          "output_type": "stream",
          "text": [
            "        Timestamp User_ID   Application_Type Signal_Strength Latency  \\\n",
            "0  9/3/2023 10:00  User_1         Video_Call         -75 dBm   30 ms   \n",
            "1  9/3/2023 10:00  User_2         Voice_Call         -80 dBm   20 ms   \n",
            "2  9/3/2023 10:00  User_3          Streaming         -85 dBm   40 ms   \n",
            "3  9/3/2023 10:00  User_4  Emergency_Service         -70 dBm   10 ms   \n",
            "4  9/3/2023 10:00  User_5      Online_Gaming         -78 dBm   25 ms   \n",
            "\n",
            "  Required_Bandwidth Allocated_Bandwidth Resource_Allocation  \n",
            "0            10 Mbps             15 Mbps                 70%  \n",
            "1           100 Kbps            120 Kbps                 80%  \n",
            "2             5 Mbps              6 Mbps                 75%  \n",
            "3             1 Mbps            1.5 Mbps                 90%  \n",
            "4             2 Mbps              3 Mbps                 85%  \n"
          ]
        }
      ],
      "source": [
        "df = pd.read_csv('Quality of Service 5G.csv')\n",
        "print(df.head())"
      ]
    },
    {
      "cell_type": "markdown",
      "id": "e72c7987-519b-485f-a1e0-4676850f9aa6",
      "metadata": {
        "id": "e72c7987-519b-485f-a1e0-4676850f9aa6"
      },
      "source": [
        "#### 2.2 Get dataset info"
      ]
    },
    {
      "cell_type": "code",
      "execution_count": null,
      "id": "c39f6189-2091-4bed-98b3-30c49b3f83c1",
      "metadata": {
        "id": "c39f6189-2091-4bed-98b3-30c49b3f83c1",
        "outputId": "fe140253-f748-4fc7-9f3e-85f0c7369f8b"
      },
      "outputs": [
        {
          "name": "stdout",
          "output_type": "stream",
          "text": [
            "<class 'pandas.core.frame.DataFrame'>\n",
            "RangeIndex: 400 entries, 0 to 399\n",
            "Data columns (total 8 columns):\n",
            " #   Column               Non-Null Count  Dtype \n",
            "---  ------               --------------  ----- \n",
            " 0   Timestamp            400 non-null    object\n",
            " 1   User_ID              400 non-null    object\n",
            " 2   Application_Type     400 non-null    object\n",
            " 3   Signal_Strength      400 non-null    object\n",
            " 4   Latency              400 non-null    object\n",
            " 5   Required_Bandwidth   400 non-null    object\n",
            " 6   Allocated_Bandwidth  400 non-null    object\n",
            " 7   Resource_Allocation  400 non-null    object\n",
            "dtypes: object(8)\n",
            "memory usage: 25.1+ KB\n",
            "None\n"
          ]
        }
      ],
      "source": [
        "print(df.info())"
      ]
    },
    {
      "cell_type": "markdown",
      "id": "35409c9b-4b11-49a1-89f0-418fe0a8f05e",
      "metadata": {
        "id": "35409c9b-4b11-49a1-89f0-418fe0a8f05e"
      },
      "source": [
        "#### 2.3 Check for missing values"
      ]
    },
    {
      "cell_type": "code",
      "execution_count": null,
      "id": "008efc07-7dfa-4602-8af7-0426c6b687fd",
      "metadata": {
        "id": "008efc07-7dfa-4602-8af7-0426c6b687fd",
        "outputId": "827c673b-186c-4957-9cbd-3d10ba891b11"
      },
      "outputs": [
        {
          "data": {
            "text/plain": [
              "Timestamp              0\n",
              "User_ID                0\n",
              "Application_Type       0\n",
              "Signal_Strength        0\n",
              "Latency                0\n",
              "Required_Bandwidth     0\n",
              "Allocated_Bandwidth    0\n",
              "Resource_Allocation    0\n",
              "dtype: int64"
            ]
          },
          "execution_count": 10,
          "metadata": {},
          "output_type": "execute_result"
        }
      ],
      "source": [
        "df.isnull().sum()"
      ]
    },
    {
      "cell_type": "markdown",
      "id": "93a912f0-0882-4bbf-b900-e7f5783e747e",
      "metadata": {
        "id": "93a912f0-0882-4bbf-b900-e7f5783e747e"
      },
      "source": [
        "#### 2.4 Display statistical summary"
      ]
    },
    {
      "cell_type": "code",
      "execution_count": null,
      "id": "34037317-b68e-48a5-9006-9f9f42186941",
      "metadata": {
        "id": "34037317-b68e-48a5-9006-9f9f42186941",
        "outputId": "ca9c577d-aac3-406e-fe18-1d6c230572e8"
      },
      "outputs": [
        {
          "name": "stdout",
          "output_type": "stream",
          "text": [
            "             Timestamp User_ID Application_Type Signal_Strength Latency  \\\n",
            "count              400     400              400             400     400   \n",
            "unique               7     400               11              84      87   \n",
            "top     9/3/2023 10:01  User_1       Video_Call         -97 dBm    5 ms   \n",
            "freq                60       1               58               9      35   \n",
            "\n",
            "       Required_Bandwidth Allocated_Bandwidth Resource_Allocation  \n",
            "count                 400                 400                 400  \n",
            "unique                188                 194                   9  \n",
            "top              0.1 Mbps            0.1 Mbps                 70%  \n",
            "freq                   16                  16                 148  \n"
          ]
        }
      ],
      "source": [
        "print(df.describe())"
      ]
    },
    {
      "cell_type": "markdown",
      "id": "ff00b591-3b1f-4c64-8561-7c163429c7ec",
      "metadata": {
        "id": "ff00b591-3b1f-4c64-8561-7c163429c7ec"
      },
      "source": [
        "### 3. Data Preprocessing\n",
        "#### 3.1 Convert Timestamp to datetime and extract hour"
      ]
    },
    {
      "cell_type": "code",
      "execution_count": null,
      "id": "c64a27da-459a-41d9-ba50-2d5b101b74df",
      "metadata": {
        "id": "c64a27da-459a-41d9-ba50-2d5b101b74df"
      },
      "outputs": [],
      "source": [
        "# Convert Timestamp to datetime\n",
        "df['Timestamp'] = pd.to_datetime(df['Timestamp'])\n",
        "\n",
        "# Extract hour from Timestamp\n",
        "df['Hour'] = df['Timestamp'].dt.hour"
      ]
    },
    {
      "cell_type": "markdown",
      "id": "dd07f299-d61d-48eb-8866-93e5b03b2559",
      "metadata": {
        "id": "dd07f299-d61d-48eb-8866-93e5b03b2559"
      },
      "source": [
        "#### 3.2 Encode categorical variables"
      ]
    },
    {
      "cell_type": "code",
      "execution_count": null,
      "id": "79a2eb04-ccab-4e64-8bf0-797905579b52",
      "metadata": {
        "id": "79a2eb04-ccab-4e64-8bf0-797905579b52"
      },
      "outputs": [],
      "source": [
        "# Encode categorical variables\n",
        "le = LabelEncoder()\n",
        "df['User_ID'] = le.fit_transform(df['User_ID'])\n",
        "df['Application_Type'] = le.fit_transform(df['Application_Type'])"
      ]
    },
    {
      "cell_type": "markdown",
      "id": "e4955dd2-6454-46d0-8d37-6b8070f34758",
      "metadata": {
        "id": "e4955dd2-6454-46d0-8d37-6b8070f34758"
      },
      "source": [
        "#### 3.3 Convert Signal_Strength to numeric"
      ]
    },
    {
      "cell_type": "code",
      "execution_count": null,
      "id": "e95c88b6-6bab-409d-8dbc-5bb15e7e36e1",
      "metadata": {
        "id": "e95c88b6-6bab-409d-8dbc-5bb15e7e36e1"
      },
      "outputs": [],
      "source": [
        "# Convert Signal_Strength to numeric (remove ' dBm')\n",
        "df['Signal_Strength'] = df['Signal_Strength'].str.replace(' dBm', '').astype(int)"
      ]
    },
    {
      "cell_type": "markdown",
      "id": "9e8c41f9-72c0-4d76-ba47-b030ac32675c",
      "metadata": {
        "id": "9e8c41f9-72c0-4d76-ba47-b030ac32675c"
      },
      "source": [
        "#### 3.4 Convert Latency to numeric"
      ]
    },
    {
      "cell_type": "code",
      "execution_count": null,
      "id": "de0d700c-6cd9-4afc-866e-668cd5e78aa8",
      "metadata": {
        "id": "de0d700c-6cd9-4afc-866e-668cd5e78aa8"
      },
      "outputs": [],
      "source": [
        "# Convert Latency to numeric (remove ' ms')\n",
        "df['Latency'] = df['Latency'].str.replace(' ms', '').astype(int)"
      ]
    },
    {
      "cell_type": "markdown",
      "id": "970e2c1b-62a6-4b9d-94ef-bbb6f4f9fc4c",
      "metadata": {
        "id": "970e2c1b-62a6-4b9d-94ef-bbb6f4f9fc4c"
      },
      "source": [
        "#### 3.5 Convert bandwidth columns to numeric (in Mbps)"
      ]
    },
    {
      "cell_type": "code",
      "execution_count": null,
      "id": "3f0f8433-5995-402a-a2e5-c099a79da775",
      "metadata": {
        "id": "3f0f8433-5995-402a-a2e5-c099a79da775"
      },
      "outputs": [],
      "source": [
        "# Convert bandwidth columns to numeric (remove ' Mbps' or ' Kbps' and convert to Mbps)\n",
        "def convert_to_mbps(value):\n",
        "    if 'Kbps' in value:\n",
        "        return float(value.replace(' Kbps', '')) / 1000\n",
        "    else:\n",
        "        return float(value.replace(' Mbps', ''))\n",
        "\n",
        "df['Required_Bandwidth'] = df['Required_Bandwidth'].apply(convert_to_mbps)\n",
        "df['Allocated_Bandwidth'] = df['Allocated_Bandwidth'].apply(convert_to_mbps)"
      ]
    },
    {
      "cell_type": "markdown",
      "id": "3d53ae34-0302-48bb-bf60-0c3816677b38",
      "metadata": {
        "id": "3d53ae34-0302-48bb-bf60-0c3816677b38"
      },
      "source": [
        "#### 3.6 Convert Resource_Allocation to numeric"
      ]
    },
    {
      "cell_type": "code",
      "execution_count": null,
      "id": "ba0c4693-2a4b-4e91-8679-9a724cf7bb6a",
      "metadata": {
        "id": "ba0c4693-2a4b-4e91-8679-9a724cf7bb6a",
        "outputId": "b66da236-50e6-4007-9e28-bdbad528488d"
      },
      "outputs": [
        {
          "name": "stdout",
          "output_type": "stream",
          "text": [
            "            Timestamp  User_ID  Application_Type  Signal_Strength  Latency  \\\n",
            "0 2023-09-03 10:00:00        0                 6              -75       30   \n",
            "1 2023-09-03 10:00:00      111                 9              -80       20   \n",
            "2 2023-09-03 10:00:00      222                 5              -85       40   \n",
            "3 2023-09-03 10:00:00      333                 1              -70       10   \n",
            "4 2023-09-03 10:00:00      345                 4              -78       25   \n",
            "\n",
            "   Required_Bandwidth  Allocated_Bandwidth  Resource_Allocation  Hour  \n",
            "0                10.0                15.00                   70    10  \n",
            "1                 0.1                 0.12                   80    10  \n",
            "2                 5.0                 6.00                   75    10  \n",
            "3                 1.0                 1.50                   90    10  \n",
            "4                 2.0                 3.00                   85    10  \n"
          ]
        }
      ],
      "source": [
        "# Convert Resource_Allocation to numeric (remove '%')\n",
        "df['Resource_Allocation'] = df['Resource_Allocation'].str.replace('%', '').astype(int)\n",
        "\n",
        "print(df.head())"
      ]
    },
    {
      "cell_type": "markdown",
      "id": "8a5c913e-7e20-4b6d-9a9b-9dc3d57adc9b",
      "metadata": {
        "id": "8a5c913e-7e20-4b6d-9a9b-9dc3d57adc9b"
      },
      "source": [
        "### 4. Feature Selection"
      ]
    },
    {
      "cell_type": "code",
      "execution_count": null,
      "id": "46f3a2c7-2e7c-4320-a057-3983b6f45804",
      "metadata": {
        "id": "46f3a2c7-2e7c-4320-a057-3983b6f45804"
      },
      "outputs": [],
      "source": [
        "features = ['Hour', 'User_ID', 'Application_Type', 'Signal_Strength', 'Latency', 'Required_Bandwidth', 'Resource_Allocation']\n",
        "target = 'Allocated_Bandwidth'\n",
        "\n",
        "X = df[features]\n",
        "y = df[target]"
      ]
    },
    {
      "cell_type": "markdown",
      "id": "6b22ff13-924f-4868-8707-f00703c0f4f9",
      "metadata": {
        "id": "6b22ff13-924f-4868-8707-f00703c0f4f9"
      },
      "source": [
        "### 5. Data Splitting"
      ]
    },
    {
      "cell_type": "code",
      "execution_count": null,
      "id": "4d403462-75ca-4433-bad5-9e507b5b0e10",
      "metadata": {
        "id": "4d403462-75ca-4433-bad5-9e507b5b0e10"
      },
      "outputs": [],
      "source": [
        "X_train, X_test, y_train, y_test = train_test_split(X, y, test_size=0.2, random_state=42)"
      ]
    },
    {
      "cell_type": "markdown",
      "id": "381f8e0c-daad-42b7-baed-e5843f91e516",
      "metadata": {
        "id": "381f8e0c-daad-42b7-baed-e5843f91e516"
      },
      "source": [
        "### 6. Feature Scaling"
      ]
    },
    {
      "cell_type": "code",
      "execution_count": null,
      "id": "17a79218-f81a-4958-83d6-a76a7a248cba",
      "metadata": {
        "id": "17a79218-f81a-4958-83d6-a76a7a248cba"
      },
      "outputs": [],
      "source": [
        "scaler = StandardScaler()\n",
        "X_train_scaled = scaler.fit_transform(X_train)\n",
        "X_test_scaled = scaler.transform(X_test)"
      ]
    },
    {
      "cell_type": "markdown",
      "id": "674158dc-12e1-45bb-bbbe-c9437dfcf9fd",
      "metadata": {
        "id": "674158dc-12e1-45bb-bbbe-c9437dfcf9fd"
      },
      "source": [
        "### 7. Model Training"
      ]
    },
    {
      "cell_type": "code",
      "execution_count": null,
      "id": "6c30a336-19b1-46af-939c-1991b45c5f4c",
      "metadata": {
        "id": "6c30a336-19b1-46af-939c-1991b45c5f4c",
        "outputId": "6e498c80-9968-47b5-8cdc-df38eaa73b03"
      },
      "outputs": [
        {
          "data": {
            "text/html": [
              "<style>#sk-container-id-1 {\n",
              "  /* Definition of color scheme common for light and dark mode */\n",
              "  --sklearn-color-text: black;\n",
              "  --sklearn-color-line: gray;\n",
              "  /* Definition of color scheme for unfitted estimators */\n",
              "  --sklearn-color-unfitted-level-0: #fff5e6;\n",
              "  --sklearn-color-unfitted-level-1: #f6e4d2;\n",
              "  --sklearn-color-unfitted-level-2: #ffe0b3;\n",
              "  --sklearn-color-unfitted-level-3: chocolate;\n",
              "  /* Definition of color scheme for fitted estimators */\n",
              "  --sklearn-color-fitted-level-0: #f0f8ff;\n",
              "  --sklearn-color-fitted-level-1: #d4ebff;\n",
              "  --sklearn-color-fitted-level-2: #b3dbfd;\n",
              "  --sklearn-color-fitted-level-3: cornflowerblue;\n",
              "\n",
              "  /* Specific color for light theme */\n",
              "  --sklearn-color-text-on-default-background: var(--sg-text-color, var(--theme-code-foreground, var(--jp-content-font-color1, black)));\n",
              "  --sklearn-color-background: var(--sg-background-color, var(--theme-background, var(--jp-layout-color0, white)));\n",
              "  --sklearn-color-border-box: var(--sg-text-color, var(--theme-code-foreground, var(--jp-content-font-color1, black)));\n",
              "  --sklearn-color-icon: #696969;\n",
              "\n",
              "  @media (prefers-color-scheme: dark) {\n",
              "    /* Redefinition of color scheme for dark theme */\n",
              "    --sklearn-color-text-on-default-background: var(--sg-text-color, var(--theme-code-foreground, var(--jp-content-font-color1, white)));\n",
              "    --sklearn-color-background: var(--sg-background-color, var(--theme-background, var(--jp-layout-color0, #111)));\n",
              "    --sklearn-color-border-box: var(--sg-text-color, var(--theme-code-foreground, var(--jp-content-font-color1, white)));\n",
              "    --sklearn-color-icon: #878787;\n",
              "  }\n",
              "}\n",
              "\n",
              "#sk-container-id-1 {\n",
              "  color: var(--sklearn-color-text);\n",
              "}\n",
              "\n",
              "#sk-container-id-1 pre {\n",
              "  padding: 0;\n",
              "}\n",
              "\n",
              "#sk-container-id-1 input.sk-hidden--visually {\n",
              "  border: 0;\n",
              "  clip: rect(1px 1px 1px 1px);\n",
              "  clip: rect(1px, 1px, 1px, 1px);\n",
              "  height: 1px;\n",
              "  margin: -1px;\n",
              "  overflow: hidden;\n",
              "  padding: 0;\n",
              "  position: absolute;\n",
              "  width: 1px;\n",
              "}\n",
              "\n",
              "#sk-container-id-1 div.sk-dashed-wrapped {\n",
              "  border: 1px dashed var(--sklearn-color-line);\n",
              "  margin: 0 0.4em 0.5em 0.4em;\n",
              "  box-sizing: border-box;\n",
              "  padding-bottom: 0.4em;\n",
              "  background-color: var(--sklearn-color-background);\n",
              "}\n",
              "\n",
              "#sk-container-id-1 div.sk-container {\n",
              "  /* jupyter's `normalize.less` sets `[hidden] { display: none; }`\n",
              "     but bootstrap.min.css set `[hidden] { display: none !important; }`\n",
              "     so we also need the `!important` here to be able to override the\n",
              "     default hidden behavior on the sphinx rendered scikit-learn.org.\n",
              "     See: https://github.com/scikit-learn/scikit-learn/issues/21755 */\n",
              "  display: inline-block !important;\n",
              "  position: relative;\n",
              "}\n",
              "\n",
              "#sk-container-id-1 div.sk-text-repr-fallback {\n",
              "  display: none;\n",
              "}\n",
              "\n",
              "div.sk-parallel-item,\n",
              "div.sk-serial,\n",
              "div.sk-item {\n",
              "  /* draw centered vertical line to link estimators */\n",
              "  background-image: linear-gradient(var(--sklearn-color-text-on-default-background), var(--sklearn-color-text-on-default-background));\n",
              "  background-size: 2px 100%;\n",
              "  background-repeat: no-repeat;\n",
              "  background-position: center center;\n",
              "}\n",
              "\n",
              "/* Parallel-specific style estimator block */\n",
              "\n",
              "#sk-container-id-1 div.sk-parallel-item::after {\n",
              "  content: \"\";\n",
              "  width: 100%;\n",
              "  border-bottom: 2px solid var(--sklearn-color-text-on-default-background);\n",
              "  flex-grow: 1;\n",
              "}\n",
              "\n",
              "#sk-container-id-1 div.sk-parallel {\n",
              "  display: flex;\n",
              "  align-items: stretch;\n",
              "  justify-content: center;\n",
              "  background-color: var(--sklearn-color-background);\n",
              "  position: relative;\n",
              "}\n",
              "\n",
              "#sk-container-id-1 div.sk-parallel-item {\n",
              "  display: flex;\n",
              "  flex-direction: column;\n",
              "}\n",
              "\n",
              "#sk-container-id-1 div.sk-parallel-item:first-child::after {\n",
              "  align-self: flex-end;\n",
              "  width: 50%;\n",
              "}\n",
              "\n",
              "#sk-container-id-1 div.sk-parallel-item:last-child::after {\n",
              "  align-self: flex-start;\n",
              "  width: 50%;\n",
              "}\n",
              "\n",
              "#sk-container-id-1 div.sk-parallel-item:only-child::after {\n",
              "  width: 0;\n",
              "}\n",
              "\n",
              "/* Serial-specific style estimator block */\n",
              "\n",
              "#sk-container-id-1 div.sk-serial {\n",
              "  display: flex;\n",
              "  flex-direction: column;\n",
              "  align-items: center;\n",
              "  background-color: var(--sklearn-color-background);\n",
              "  padding-right: 1em;\n",
              "  padding-left: 1em;\n",
              "}\n",
              "\n",
              "\n",
              "/* Toggleable style: style used for estimator/Pipeline/ColumnTransformer box that is\n",
              "clickable and can be expanded/collapsed.\n",
              "- Pipeline and ColumnTransformer use this feature and define the default style\n",
              "- Estimators will overwrite some part of the style using the `sk-estimator` class\n",
              "*/\n",
              "\n",
              "/* Pipeline and ColumnTransformer style (default) */\n",
              "\n",
              "#sk-container-id-1 div.sk-toggleable {\n",
              "  /* Default theme specific background. It is overwritten whether we have a\n",
              "  specific estimator or a Pipeline/ColumnTransformer */\n",
              "  background-color: var(--sklearn-color-background);\n",
              "}\n",
              "\n",
              "/* Toggleable label */\n",
              "#sk-container-id-1 label.sk-toggleable__label {\n",
              "  cursor: pointer;\n",
              "  display: block;\n",
              "  width: 100%;\n",
              "  margin-bottom: 0;\n",
              "  padding: 0.5em;\n",
              "  box-sizing: border-box;\n",
              "  text-align: center;\n",
              "}\n",
              "\n",
              "#sk-container-id-1 label.sk-toggleable__label-arrow:before {\n",
              "  /* Arrow on the left of the label */\n",
              "  content: \"▸\";\n",
              "  float: left;\n",
              "  margin-right: 0.25em;\n",
              "  color: var(--sklearn-color-icon);\n",
              "}\n",
              "\n",
              "#sk-container-id-1 label.sk-toggleable__label-arrow:hover:before {\n",
              "  color: var(--sklearn-color-text);\n",
              "}\n",
              "\n",
              "/* Toggleable content - dropdown */\n",
              "\n",
              "#sk-container-id-1 div.sk-toggleable__content {\n",
              "  max-height: 0;\n",
              "  max-width: 0;\n",
              "  overflow: hidden;\n",
              "  text-align: left;\n",
              "  /* unfitted */\n",
              "  background-color: var(--sklearn-color-unfitted-level-0);\n",
              "}\n",
              "\n",
              "#sk-container-id-1 div.sk-toggleable__content.fitted {\n",
              "  /* fitted */\n",
              "  background-color: var(--sklearn-color-fitted-level-0);\n",
              "}\n",
              "\n",
              "#sk-container-id-1 div.sk-toggleable__content pre {\n",
              "  margin: 0.2em;\n",
              "  border-radius: 0.25em;\n",
              "  color: var(--sklearn-color-text);\n",
              "  /* unfitted */\n",
              "  background-color: var(--sklearn-color-unfitted-level-0);\n",
              "}\n",
              "\n",
              "#sk-container-id-1 div.sk-toggleable__content.fitted pre {\n",
              "  /* unfitted */\n",
              "  background-color: var(--sklearn-color-fitted-level-0);\n",
              "}\n",
              "\n",
              "#sk-container-id-1 input.sk-toggleable__control:checked~div.sk-toggleable__content {\n",
              "  /* Expand drop-down */\n",
              "  max-height: 200px;\n",
              "  max-width: 100%;\n",
              "  overflow: auto;\n",
              "}\n",
              "\n",
              "#sk-container-id-1 input.sk-toggleable__control:checked~label.sk-toggleable__label-arrow:before {\n",
              "  content: \"▾\";\n",
              "}\n",
              "\n",
              "/* Pipeline/ColumnTransformer-specific style */\n",
              "\n",
              "#sk-container-id-1 div.sk-label input.sk-toggleable__control:checked~label.sk-toggleable__label {\n",
              "  color: var(--sklearn-color-text);\n",
              "  background-color: var(--sklearn-color-unfitted-level-2);\n",
              "}\n",
              "\n",
              "#sk-container-id-1 div.sk-label.fitted input.sk-toggleable__control:checked~label.sk-toggleable__label {\n",
              "  background-color: var(--sklearn-color-fitted-level-2);\n",
              "}\n",
              "\n",
              "/* Estimator-specific style */\n",
              "\n",
              "/* Colorize estimator box */\n",
              "#sk-container-id-1 div.sk-estimator input.sk-toggleable__control:checked~label.sk-toggleable__label {\n",
              "  /* unfitted */\n",
              "  background-color: var(--sklearn-color-unfitted-level-2);\n",
              "}\n",
              "\n",
              "#sk-container-id-1 div.sk-estimator.fitted input.sk-toggleable__control:checked~label.sk-toggleable__label {\n",
              "  /* fitted */\n",
              "  background-color: var(--sklearn-color-fitted-level-2);\n",
              "}\n",
              "\n",
              "#sk-container-id-1 div.sk-label label.sk-toggleable__label,\n",
              "#sk-container-id-1 div.sk-label label {\n",
              "  /* The background is the default theme color */\n",
              "  color: var(--sklearn-color-text-on-default-background);\n",
              "}\n",
              "\n",
              "/* On hover, darken the color of the background */\n",
              "#sk-container-id-1 div.sk-label:hover label.sk-toggleable__label {\n",
              "  color: var(--sklearn-color-text);\n",
              "  background-color: var(--sklearn-color-unfitted-level-2);\n",
              "}\n",
              "\n",
              "/* Label box, darken color on hover, fitted */\n",
              "#sk-container-id-1 div.sk-label.fitted:hover label.sk-toggleable__label.fitted {\n",
              "  color: var(--sklearn-color-text);\n",
              "  background-color: var(--sklearn-color-fitted-level-2);\n",
              "}\n",
              "\n",
              "/* Estimator label */\n",
              "\n",
              "#sk-container-id-1 div.sk-label label {\n",
              "  font-family: monospace;\n",
              "  font-weight: bold;\n",
              "  display: inline-block;\n",
              "  line-height: 1.2em;\n",
              "}\n",
              "\n",
              "#sk-container-id-1 div.sk-label-container {\n",
              "  text-align: center;\n",
              "}\n",
              "\n",
              "/* Estimator-specific */\n",
              "#sk-container-id-1 div.sk-estimator {\n",
              "  font-family: monospace;\n",
              "  border: 1px dotted var(--sklearn-color-border-box);\n",
              "  border-radius: 0.25em;\n",
              "  box-sizing: border-box;\n",
              "  margin-bottom: 0.5em;\n",
              "  /* unfitted */\n",
              "  background-color: var(--sklearn-color-unfitted-level-0);\n",
              "}\n",
              "\n",
              "#sk-container-id-1 div.sk-estimator.fitted {\n",
              "  /* fitted */\n",
              "  background-color: var(--sklearn-color-fitted-level-0);\n",
              "}\n",
              "\n",
              "/* on hover */\n",
              "#sk-container-id-1 div.sk-estimator:hover {\n",
              "  /* unfitted */\n",
              "  background-color: var(--sklearn-color-unfitted-level-2);\n",
              "}\n",
              "\n",
              "#sk-container-id-1 div.sk-estimator.fitted:hover {\n",
              "  /* fitted */\n",
              "  background-color: var(--sklearn-color-fitted-level-2);\n",
              "}\n",
              "\n",
              "/* Specification for estimator info (e.g. \"i\" and \"?\") */\n",
              "\n",
              "/* Common style for \"i\" and \"?\" */\n",
              "\n",
              ".sk-estimator-doc-link,\n",
              "a:link.sk-estimator-doc-link,\n",
              "a:visited.sk-estimator-doc-link {\n",
              "  float: right;\n",
              "  font-size: smaller;\n",
              "  line-height: 1em;\n",
              "  font-family: monospace;\n",
              "  background-color: var(--sklearn-color-background);\n",
              "  border-radius: 1em;\n",
              "  height: 1em;\n",
              "  width: 1em;\n",
              "  text-decoration: none !important;\n",
              "  margin-left: 1ex;\n",
              "  /* unfitted */\n",
              "  border: var(--sklearn-color-unfitted-level-1) 1pt solid;\n",
              "  color: var(--sklearn-color-unfitted-level-1);\n",
              "}\n",
              "\n",
              ".sk-estimator-doc-link.fitted,\n",
              "a:link.sk-estimator-doc-link.fitted,\n",
              "a:visited.sk-estimator-doc-link.fitted {\n",
              "  /* fitted */\n",
              "  border: var(--sklearn-color-fitted-level-1) 1pt solid;\n",
              "  color: var(--sklearn-color-fitted-level-1);\n",
              "}\n",
              "\n",
              "/* On hover */\n",
              "div.sk-estimator:hover .sk-estimator-doc-link:hover,\n",
              ".sk-estimator-doc-link:hover,\n",
              "div.sk-label-container:hover .sk-estimator-doc-link:hover,\n",
              ".sk-estimator-doc-link:hover {\n",
              "  /* unfitted */\n",
              "  background-color: var(--sklearn-color-unfitted-level-3);\n",
              "  color: var(--sklearn-color-background);\n",
              "  text-decoration: none;\n",
              "}\n",
              "\n",
              "div.sk-estimator.fitted:hover .sk-estimator-doc-link.fitted:hover,\n",
              ".sk-estimator-doc-link.fitted:hover,\n",
              "div.sk-label-container:hover .sk-estimator-doc-link.fitted:hover,\n",
              ".sk-estimator-doc-link.fitted:hover {\n",
              "  /* fitted */\n",
              "  background-color: var(--sklearn-color-fitted-level-3);\n",
              "  color: var(--sklearn-color-background);\n",
              "  text-decoration: none;\n",
              "}\n",
              "\n",
              "/* Span, style for the box shown on hovering the info icon */\n",
              ".sk-estimator-doc-link span {\n",
              "  display: none;\n",
              "  z-index: 9999;\n",
              "  position: relative;\n",
              "  font-weight: normal;\n",
              "  right: .2ex;\n",
              "  padding: .5ex;\n",
              "  margin: .5ex;\n",
              "  width: min-content;\n",
              "  min-width: 20ex;\n",
              "  max-width: 50ex;\n",
              "  color: var(--sklearn-color-text);\n",
              "  box-shadow: 2pt 2pt 4pt #999;\n",
              "  /* unfitted */\n",
              "  background: var(--sklearn-color-unfitted-level-0);\n",
              "  border: .5pt solid var(--sklearn-color-unfitted-level-3);\n",
              "}\n",
              "\n",
              ".sk-estimator-doc-link.fitted span {\n",
              "  /* fitted */\n",
              "  background: var(--sklearn-color-fitted-level-0);\n",
              "  border: var(--sklearn-color-fitted-level-3);\n",
              "}\n",
              "\n",
              ".sk-estimator-doc-link:hover span {\n",
              "  display: block;\n",
              "}\n",
              "\n",
              "/* \"?\"-specific style due to the `<a>` HTML tag */\n",
              "\n",
              "#sk-container-id-1 a.estimator_doc_link {\n",
              "  float: right;\n",
              "  font-size: 1rem;\n",
              "  line-height: 1em;\n",
              "  font-family: monospace;\n",
              "  background-color: var(--sklearn-color-background);\n",
              "  border-radius: 1rem;\n",
              "  height: 1rem;\n",
              "  width: 1rem;\n",
              "  text-decoration: none;\n",
              "  /* unfitted */\n",
              "  color: var(--sklearn-color-unfitted-level-1);\n",
              "  border: var(--sklearn-color-unfitted-level-1) 1pt solid;\n",
              "}\n",
              "\n",
              "#sk-container-id-1 a.estimator_doc_link.fitted {\n",
              "  /* fitted */\n",
              "  border: var(--sklearn-color-fitted-level-1) 1pt solid;\n",
              "  color: var(--sklearn-color-fitted-level-1);\n",
              "}\n",
              "\n",
              "/* On hover */\n",
              "#sk-container-id-1 a.estimator_doc_link:hover {\n",
              "  /* unfitted */\n",
              "  background-color: var(--sklearn-color-unfitted-level-3);\n",
              "  color: var(--sklearn-color-background);\n",
              "  text-decoration: none;\n",
              "}\n",
              "\n",
              "#sk-container-id-1 a.estimator_doc_link.fitted:hover {\n",
              "  /* fitted */\n",
              "  background-color: var(--sklearn-color-fitted-level-3);\n",
              "}\n",
              "</style><div id=\"sk-container-id-1\" class=\"sk-top-container\"><div class=\"sk-text-repr-fallback\"><pre>LinearRegression()</pre><b>In a Jupyter environment, please rerun this cell to show the HTML representation or trust the notebook. <br />On GitHub, the HTML representation is unable to render, please try loading this page with nbviewer.org.</b></div><div class=\"sk-container\" hidden><div class=\"sk-item\"><div class=\"sk-estimator fitted sk-toggleable\"><input class=\"sk-toggleable__control sk-hidden--visually\" id=\"sk-estimator-id-1\" type=\"checkbox\" checked><label for=\"sk-estimator-id-1\" class=\"sk-toggleable__label fitted sk-toggleable__label-arrow fitted\">&nbsp;&nbsp;LinearRegression<a class=\"sk-estimator-doc-link fitted\" rel=\"noreferrer\" target=\"_blank\" href=\"https://scikit-learn.org/1.4/modules/generated/sklearn.linear_model.LinearRegression.html\">?<span>Documentation for LinearRegression</span></a><span class=\"sk-estimator-doc-link fitted\">i<span>Fitted</span></span></label><div class=\"sk-toggleable__content fitted\"><pre>LinearRegression()</pre></div> </div></div></div></div>"
            ],
            "text/plain": [
              "LinearRegression()"
            ]
          },
          "execution_count": 32,
          "metadata": {},
          "output_type": "execute_result"
        }
      ],
      "source": [
        "model = LinearRegression()\n",
        "model.fit(X_train_scaled, y_train)"
      ]
    },
    {
      "cell_type": "markdown",
      "id": "0e52ce79-0f73-450d-9142-d4c2abe83440",
      "metadata": {
        "id": "0e52ce79-0f73-450d-9142-d4c2abe83440"
      },
      "source": [
        "### 8. Model Evaluation"
      ]
    },
    {
      "cell_type": "code",
      "execution_count": null,
      "id": "adeda913-d36a-48d9-b02f-656a6b500b0e",
      "metadata": {
        "id": "adeda913-d36a-48d9-b02f-656a6b500b0e",
        "outputId": "37397c27-2718-484d-cced-160108393c79"
      },
      "outputs": [
        {
          "name": "stdout",
          "output_type": "stream",
          "text": [
            "Mean Squared Error: 0.20567774159555183\n",
            "Root Mean Squared Error: 0.453517079717569\n",
            "R-squared Score: 0.9897438279940306\n"
          ]
        }
      ],
      "source": [
        "y_pred = model.predict(X_test_scaled)\n",
        "\n",
        "mse = mean_squared_error(y_test, y_pred)\n",
        "rmse = np.sqrt(mse)\n",
        "r2 = r2_score(y_test, y_pred)\n",
        "\n",
        "print(f\"Mean Squared Error: {mse}\")\n",
        "print(f\"Root Mean Squared Error: {rmse}\")\n",
        "print(f\"R-squared Score: {r2}\")\n"
      ]
    },
    {
      "cell_type": "markdown",
      "id": "53cb1882-19a0-449a-8a68-00c12055f9b7",
      "metadata": {
        "id": "53cb1882-19a0-449a-8a68-00c12055f9b7"
      },
      "source": [
        "### 9. Feature Importance"
      ]
    },
    {
      "cell_type": "code",
      "execution_count": null,
      "id": "b34d4a0c-1f45-4159-9a0b-128daf64a5e6",
      "metadata": {
        "id": "b34d4a0c-1f45-4159-9a0b-128daf64a5e6",
        "outputId": "1e13321a-0d5d-4379-cf4a-720069db4817"
      },
      "outputs": [
        {
          "name": "stdout",
          "output_type": "stream",
          "text": [
            "               feature  importance\n",
            "5   Required_Bandwidth    4.512974\n",
            "6  Resource_Allocation    0.077395\n",
            "1              User_ID    0.021082\n",
            "0                 Hour    0.000000\n",
            "4              Latency   -0.056987\n",
            "2     Application_Type   -0.057238\n",
            "3      Signal_Strength   -0.145391\n"
          ]
        }
      ],
      "source": [
        "feature_importance = pd.DataFrame({'feature': features, 'importance': model.coef_})\n",
        "feature_importance = feature_importance.sort_values('importance', ascending=False)\n",
        "print(feature_importance)"
      ]
    },
    {
      "cell_type": "markdown",
      "id": "5ee532b3-6a89-478e-9fb6-e3f513a8fae9",
      "metadata": {
        "id": "5ee532b3-6a89-478e-9fb6-e3f513a8fae9"
      },
      "source": [
        "### 10. Visualizations\n",
        "#### 10.1 Actual vs Predicted Values"
      ]
    },
    {
      "cell_type": "code",
      "execution_count": null,
      "id": "c3bed315-780b-43fe-b91c-da4eb6ee1699",
      "metadata": {
        "id": "c3bed315-780b-43fe-b91c-da4eb6ee1699",
        "outputId": "ed2a1bc7-69f8-4ec0-ae2c-52e461f55202"
      },
      "outputs": [
        {
          "data": {
            "text/plain": [
              "Text(0.5, 1.0, 'Actual vs Predicted Allocated Bandwidth')"
            ]
          },
          "execution_count": 38,
          "metadata": {},
          "output_type": "execute_result"
        },
        {
          "data": {
            "image/png": "[encoded data removed]",
            "text/plain": [
              "<Figure size 1000x600 with 1 Axes>"
            ]
          },
          "metadata": {},
          "output_type": "display_data"
        }
      ],
      "source": [
        "# Actual vs Predicted Values\n",
        "plt.figure(figsize=(10, 6))\n",
        "plt.scatter(y_test, y_pred, alpha=0.5)\n",
        "plt.plot([y_test.min(), y_test.max()], [y_test.min(), y_test.max()], 'r--', lw=2)\n",
        "plt.xlabel(\"Actual Allocated Bandwidth\")\n",
        "plt.ylabel(\"Predicted Allocated Bandwidth\")\n",
        "plt.title(\"Actual vs Predicted Allocated Bandwidth\")\n",
        "#plt.tight_layout()\n",
        "#plt.show()"
      ]
    },
    {
      "cell_type": "markdown",
      "id": "e312a3e0",
      "metadata": {
        "id": "e312a3e0"
      },
      "source": [
        "The scatter plot visualizes how well the model's predictions align with the actual allocated bandwidth. The red dashed line represents a perfect prediction line, and points close to this line indicate accurate predictions. This visualization helps identify discrepancies between predicted and actual values."
      ]
    },
    {
      "cell_type": "markdown",
      "id": "a25b9d8f-fb25-474a-9013-8ee9db758c37",
      "metadata": {
        "id": "a25b9d8f-fb25-474a-9013-8ee9db758c37"
      },
      "source": [
        "#### 10.2 Feature Importance"
      ]
    },
    {
      "cell_type": "code",
      "execution_count": null,
      "id": "a8e2519f-e5bb-4123-b5d7-74ebf71c3fac",
      "metadata": {
        "id": "a8e2519f-e5bb-4123-b5d7-74ebf71c3fac",
        "outputId": "6962ea8a-9c50-44b5-83ef-c467f5162d70"
      },
      "outputs": [
        {
          "data": {
            "image/png": "[encoded data removed]",
            "text/plain": [
              "<Figure size 1000x600 with 1 Axes>"
            ]
          },
          "metadata": {},
          "output_type": "display_data"
        }
      ],
      "source": [
        "# Feature Importance\n",
        "plt.figure(figsize=(10, 6))\n",
        "plt.bar(feature_importance['feature'], feature_importance['importance'])\n",
        "plt.xlabel(\"Features\")\n",
        "plt.ylabel(\"Importance\")\n",
        "plt.title(\"Feature Importance\")\n",
        "plt.xticks(rotation=45)\n",
        "plt.tight_layout()\n",
        "plt.show()"
      ]
    },
    {
      "cell_type": "markdown",
      "id": "13623d9d",
      "metadata": {
        "id": "13623d9d"
      },
      "source": [
        "The bar chart displays the relative importance of each feature in predicting the allocated bandwidth. It helps identify which factors have the most influence, aiding in model interpretation and further feature engineering."
      ]
    },
    {
      "cell_type": "markdown",
      "id": "a032175c-02e4-4711-9d8c-acc2f1b1dcfe",
      "metadata": {
        "id": "a032175c-02e4-4711-9d8c-acc2f1b1dcfe"
      },
      "source": [
        "### 11. Model Interpretation"
      ]
    },
    {
      "cell_type": "markdown",
      "id": "cda3f2cf",
      "metadata": {
        "id": "cda3f2cf"
      },
      "source": [
        "1. The Linear Regression model predicts the Allocated Bandwidth based on the input features.\n",
        "2. The R-squared score indicates how well the model fits the data.\n",
        "3. Feature importance shows which features have the most impact on the predictions.\n",
        "4. The RMSE gives an idea of the average prediction error in the same units as the target variable (Mbps).\n"
      ]
    },
    {
      "cell_type": "markdown",
      "id": "5441aafa-d8a5-4cb2-83df-12c827b116e9",
      "metadata": {
        "id": "5441aafa-d8a5-4cb2-83df-12c827b116e9"
      },
      "source": [
        "### 12. Conclusion"
      ]
    },
    {
      "cell_type": "markdown",
      "id": "1f1dd83d",
      "metadata": {
        "id": "1f1dd83d"
      },
      "source": [
        "This lab demonstrated how to build a Linear Regression model to predict network data consumption.\n",
        "The model's performance can be improved by feature engineering, trying other algorithms, or using more advanced techniques."
      ]
    }
  ],
  "metadata": {
    "kernelspec": {
      "display_name": "Python 3 (ipykernel)",
      "language": "python",
      "name": "python3"
    },
    "language_info": {
      "codemirror_mode": {
        "name": "ipython",
        "version": 3
      },
      "file_extension": ".py",
      "mimetype": "text/x-python",
      "name": "python",
      "nbconvert_exporter": "python",
      "pygments_lexer": "ipython3",
      "version": "3.10.4"
    },
    "colab": {
      "provenance": []
    }
  },
  "nbformat": 4,
  "nbformat_minor": 5
}